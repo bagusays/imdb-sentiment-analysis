{
 "cells": [
  {
   "cell_type": "code",
   "execution_count": 4,
   "metadata": {},
   "outputs": [],
   "source": [
    "import pandas as pd\n",
    "import matplotlib.pyplot as plt\n",
    "import numpy as np"
   ]
  },
  {
   "cell_type": "markdown",
   "metadata": {},
   "source": [
    "# Data preparation"
   ]
  },
  {
   "cell_type": "code",
   "execution_count": 5,
   "metadata": {},
   "outputs": [],
   "source": [
    "neg_df = pd.read_csv(\"negative.csv\")\n",
    "neg_df = neg_df.loc[:7500]\n",
    "pos_df = pd.read_csv(\"positive.csv\")\n",
    "pos_df = pos_df.loc[:7500]\n",
    "\n",
    "df = pd.concat([pos_df,neg_df])\n",
    "df.reset_index(drop=True, inplace=True)"
   ]
  },
  {
   "cell_type": "code",
   "execution_count": 6,
   "metadata": {},
   "outputs": [],
   "source": [
    "from nltk.tokenize import word_tokenize\n",
    "from nltk.stem.porter import PorterStemmer\n",
    "from nltk.corpus import stopwords\n",
    "from nltk.stem import WordNetLemmatizer\n",
    "\n",
    "def lemmatization(text):\n",
    "    # lemmatization refers to the process of reducing each word to its root or base.\n",
    "    # For example “fishing,” “fished,” “fisher” all reduce to the stem “fish.”\n",
    "    word_list = word_tokenize(text)\n",
    "    lemmatizer = WordNetLemmatizer()\n",
    "    text = ' '.join([lemmatizer.lemmatize(w) for w in word_list])\n",
    "    \n",
    "    return text\n",
    "\n",
    "\n",
    "# def stemming(text):\n",
    "#     tokens = word_tokenize(text)\n",
    "#     porter = PorterStemmer()\n",
    "#     stemmed = [porter.stem(word) for word in tokens]\n",
    "    \n",
    "#     return \" \".join(stemmed)\n",
    "\n",
    "\n",
    "def filter_out_stop_words(text):\n",
    "    # Stop words are those words that do not contribute to the deeper meaning of the phrase.\n",
    "    # They are the most common words such as: “the“, “a“, and “is“\n",
    "    tokens = word_tokenize(text)\n",
    "    stop_words = set(stopwords.words('english'))\n",
    "    words = [w for w in tokens if not w in stop_words]\n",
    "    \n",
    "    return \" \".join(words)\n",
    "\n",
    "\n",
    "def filter_out_punctuation(text):\n",
    "    # We can filter out all tokens that we are not interested in, such as all standalone punctuation.\n",
    "    # This can be done by iterating over all tokens and only keeping those tokens that are all alphabetic\n",
    "    tokens = word_tokenize(text)\n",
    "    words = [word for word in tokens if word.isalpha()]\n",
    "    \n",
    "    return \" \".join(words)\n",
    "\n",
    "\n",
    "def contraction_mapping(text):\n",
    "    # Contractions are formed when words are shortened by omitting one or more letters\n",
    "    contraction_mapping_text = {\"ain't\": \"is not\", \"aren't\": \"are not\",\"can't\": \"cannot\", \"'cause\": \"because\", \"could've\": \"could have\", \"couldn't\": \"could not\",\n",
    "                           \"didn't\": \"did not\", \"doesn't\": \"does not\", \"don't\": \"do not\", \"hadn't\": \"had not\", \"hasn't\": \"has not\", \"haven't\": \"have not\",\n",
    "                           \"he'd\": \"he would\",\"he'll\": \"he will\", \"he's\": \"he is\", \"how'd\": \"how did\", \"how'd'y\": \"how do you\", \"how'll\": \"how will\", \"how's\": \"how is\",\n",
    "                           \"I'd\": \"I would\", \"I'd've\": \"I would have\", \"I'll\": \"I will\", \"I'll've\": \"I will have\",\"I'm\": \"I am\", \"I've\": \"I have\", \"i'd\": \"i would\",\n",
    "                           \"i'd've\": \"i would have\", \"i'll\": \"i will\",  \"i'll've\": \"i will have\",\"i'm\": \"i am\", \"i've\": \"i have\", \"isn't\": \"is not\", \"it'd\": \"it would\",\n",
    "                           \"it'd've\": \"it would have\", \"it'll\": \"it will\", \"it'll've\": \"it will have\",\"it's\": \"it is\", \"let's\": \"let us\", \"ma'am\": \"madam\",\n",
    "                           \"mayn't\": \"may not\", \"might've\": \"might have\",\"mightn't\": \"might not\",\"mightn't've\": \"might not have\", \"must've\": \"must have\",\n",
    "                           \"mustn't\": \"must not\", \"mustn't've\": \"must not have\", \"needn't\": \"need not\", \"needn't've\": \"need not have\",\"o'clock\": \"of the clock\",\n",
    "                           \"oughtn't\": \"ought not\", \"oughtn't've\": \"ought not have\", \"shan't\": \"shall not\", \"sha'n't\": \"shall not\", \"shan't've\": \"shall not have\",\n",
    "                           \"she'd\": \"she would\", \"she'd've\": \"she would have\", \"she'll\": \"she will\", \"she'll've\": \"she will have\", \"she's\": \"she is\",\n",
    "                           \"should've\": \"should have\", \"shouldn't\": \"should not\", \"shouldn't've\": \"should not have\", \"so've\": \"so have\",\"so's\": \"so as\",\n",
    "                           \"this's\": \"this is\",\"that'd\": \"that would\", \"that'd've\": \"that would have\", \"that's\": \"that is\", \"there'd\": \"there would\",\n",
    "                           \"there'd've\": \"there would have\", \"there's\": \"there is\", \"here's\": \"here is\",\"they'd\": \"they would\", \"they'd've\": \"they would have\",\n",
    "                           \"they'll\": \"they will\", \"they'll've\": \"they will have\", \"they're\": \"they are\", \"they've\": \"they have\", \"to've\": \"to have\",\n",
    "                           \"wasn't\": \"was not\", \"we'd\": \"we would\", \"we'd've\": \"we would have\", \"we'll\": \"we will\", \"we'll've\": \"we will have\", \"we're\": \"we are\",\n",
    "                           \"we've\": \"we have\", \"weren't\": \"were not\", \"what'll\": \"what will\", \"what'll've\": \"what will have\", \"what're\": \"what are\",\n",
    "                           \"what's\": \"what is\", \"what've\": \"what have\", \"when's\": \"when is\", \"when've\": \"when have\", \"where'd\": \"where did\", \"where's\": \"where is\",\n",
    "                           \"where've\": \"where have\", \"who'll\": \"who will\", \"who'll've\": \"who will have\", \"who's\": \"who is\", \"who've\": \"who have\",\n",
    "                           \"why's\": \"why is\", \"why've\": \"why have\", \"will've\": \"will have\", \"won't\": \"will not\", \"won't've\": \"will not have\",\n",
    "                           \"would've\": \"would have\", \"wouldn't\": \"would not\", \"wouldn't've\": \"would not have\", \"y'all\": \"you all\",\n",
    "                           \"y'all'd\": \"you all would\",\"y'all'd've\": \"you all would have\",\"y'all're\": \"you all are\",\"y'all've\": \"you all have\",\n",
    "                           \"you'd\": \"you would\", \"you'd've\": \"you would have\", \"you'll\": \"you will\", \"you'll've\": \"you will have\",\n",
    "                           \"you're\": \"you are\", \"you've\": \"you have\"}\n",
    "    \n",
    "    tokens = text.split(\" \")\n",
    "    return \" \".join([contraction_mapping_text[t] if t in contraction_mapping_text else t for t in tokens]) "
   ]
  },
  {
   "cell_type": "code",
   "execution_count": 7,
   "metadata": {},
   "outputs": [],
   "source": [
    "import re\n",
    "\n",
    "def data_preprocessing(text):    \n",
    "    REPLACE_NO_SPACE = re.compile(\"[.;:!\\'?,\\\"()\\[\\]]\")\n",
    "    REPLACE_WITH_SPACE = re.compile(\"(<br\\s*/><br\\s*/>)|(\\-)|(\\/)\")\n",
    "\n",
    "    text = contraction_mapping(text)\n",
    "    text = REPLACE_NO_SPACE.sub(\"\", text.lower())\n",
    "    text = REPLACE_WITH_SPACE.sub(\" \", text)\n",
    "    \n",
    "    text = lemmatization(text)\n",
    "#     text = stemming(text)\n",
    "    text = filter_out_stop_words(text)\n",
    "    text = filter_out_punctuation(text)\n",
    "    \n",
    "    return text"
   ]
  },
  {
   "cell_type": "code",
   "execution_count": 8,
   "metadata": {},
   "outputs": [],
   "source": [
    "for idx, data in df.iterrows():    \n",
    "    df.loc[idx, \"text\"] = data_preprocessing(df.loc[idx, \"text\"])"
   ]
  },
  {
   "cell_type": "code",
   "execution_count": null,
   "metadata": {},
   "outputs": [],
   "source": []
  },
  {
   "cell_type": "markdown",
   "metadata": {},
   "source": [
    "# Train - test - val split"
   ]
  },
  {
   "cell_type": "code",
   "execution_count": 9,
   "metadata": {},
   "outputs": [],
   "source": [
    "from sklearn.model_selection import train_test_split\n",
    "\n",
    "test_size = 0.2\n",
    "\n",
    "X_train, X_test, y_train, y_test = train_test_split(df[\"text\"], df[\"sentiment\"], stratify=df[\"sentiment\"], test_size=test_size, random_state=4)\n",
    "X_train, X_val, y_train, y_val = train_test_split(X_train, y_train, stratify=y_train, test_size=test_size, random_state=4)"
   ]
  },
  {
   "cell_type": "code",
   "execution_count": 10,
   "metadata": {},
   "outputs": [
    {
     "name": "stdout",
     "output_type": "stream",
     "text": [
      "y_training\n",
      " [[   0 4800]\n",
      " [   1 4800]] \n",
      "\n",
      "y_test\n",
      " [[   0 1501]\n",
      " [   1 1500]] \n",
      "\n",
      "y_val\n",
      " [[   0 1200]\n",
      " [   1 1201]] \n",
      "\n"
     ]
    }
   ],
   "source": [
    "print(\"y_training\\n\", np.array(np.unique(y_train, return_counts=True)).T, \"\\n\")\n",
    "print(\"y_test\\n\", np.array(np.unique(y_test, return_counts=True)).T, \"\\n\")\n",
    "print(\"y_val\\n\", np.array(np.unique(y_val, return_counts=True)).T, \"\\n\")"
   ]
  },
  {
   "cell_type": "code",
   "execution_count": null,
   "metadata": {},
   "outputs": [],
   "source": []
  },
  {
   "cell_type": "markdown",
   "metadata": {},
   "source": [
    "# Convert a collection of raw documents to a matrix of TF-IDF features.\n",
    "Algoritma TF-IDF (Term Frequency – Inverse Document Frequency) adalah salah satu algoritma yang dapat digunakan untuk menganalisa hubungan antara sebuah frase/kalimat dengan sekumpulan dokumen.\n",
    "Inti utama dari algoritma ini adalah melakukan perhitungan nilai TF dan nilai IDF dari sebuah setiap kata kunci terhadap masing-masing dokumen."
   ]
  },
  {
   "cell_type": "code",
   "execution_count": 11,
   "metadata": {},
   "outputs": [],
   "source": [
    "from sklearn.feature_extraction.text import TfidfVectorizer\n",
    "\n",
    "# create the transform\n",
    "vectorizer = TfidfVectorizer()\n",
    "# tokenize and build vocab\n",
    "vectorizer.fit(X_train)\n",
    "\n",
    "X_train = vectorizer.transform(X_train)\n",
    "X_train = X_train.toarray()\n",
    "\n",
    "X_test = vectorizer.transform(X_test)\n",
    "X_test = X_test.toarray()\n",
    "\n",
    "X_val = vectorizer.transform(X_val)\n",
    "X_val = X_val.toarray()"
   ]
  },
  {
   "cell_type": "code",
   "execution_count": 12,
   "metadata": {},
   "outputs": [
    {
     "data": {
      "text/plain": [
       "((9600, 51134), (3001, 51134))"
      ]
     },
     "execution_count": 12,
     "metadata": {},
     "output_type": "execute_result"
    }
   ],
   "source": [
    "X_train.shape, X_test.shape"
   ]
  },
  {
   "cell_type": "code",
   "execution_count": null,
   "metadata": {},
   "outputs": [],
   "source": []
  },
  {
   "cell_type": "markdown",
   "metadata": {},
   "source": [
    "# Logistic Regression model"
   ]
  },
  {
   "cell_type": "code",
   "execution_count": 20,
   "metadata": {},
   "outputs": [
    {
     "name": "stderr",
     "output_type": "stream",
     "text": [
      "/home/bagus/anaconda3/lib/python3.7/site-packages/sklearn/linear_model/logistic.py:433: FutureWarning: Default solver will be changed to 'lbfgs' in 0.22. Specify a solver to silence this warning.\n",
      "  FutureWarning)\n"
     ]
    },
    {
     "name": "stdout",
     "output_type": "stream",
     "text": [
      "Accuracy for C=1: 0.8753748750416528\n"
     ]
    }
   ],
   "source": [
    "from sklearn.linear_model import LogisticRegression\n",
    "from sklearn.metrics import accuracy_score\n",
    "\n",
    "c = 1\n",
    "lr = LogisticRegression(C=c)\n",
    "lr.fit(X_train, y_train)\n",
    "pred = lr.predict(X_test)\n",
    "print (\"Accuracy for C=%s: %s\" \n",
    "           % (c, accuracy_score(y_test, pred)))"
   ]
  },
  {
   "cell_type": "code",
   "execution_count": 21,
   "metadata": {},
   "outputs": [
    {
     "data": {
      "image/png": "[encoded data removed]",
      "text/plain": [
       "<Figure size 288x288 with 2 Axes>"
      ]
     },
     "metadata": {
      "needs_background": "light"
     },
     "output_type": "display_data"
    },
    {
     "name": "stdout",
     "output_type": "stream",
     "text": [
      "              precision    recall  f1-score   support\n",
      "\n",
      "           0       0.89      0.86      0.87      1501\n",
      "           1       0.86      0.90      0.88      1500\n",
      "\n",
      "   micro avg       0.88      0.88      0.88      3001\n",
      "   macro avg       0.88      0.88      0.88      3001\n",
      "weighted avg       0.88      0.88      0.88      3001\n",
      "\n"
     ]
    }
   ],
   "source": [
    "from sklearn.metrics import confusion_matrix\n",
    "from sklearn.metrics import classification_report\n",
    "import seaborn as sns\n",
    "\n",
    "cm = confusion_matrix(y_test,pred)\n",
    "\n",
    "f,ax = plt.subplots(figsize=(4, 4))\n",
    "sns.heatmap(cm, annot=True, linewidths=0.01,cmap=\"Purples\",linecolor=\"gray\", fmt= '.1f',ax=ax)\n",
    "plt.xlabel(\"Predicted Label\")\n",
    "plt.ylabel(\"True Label\")\n",
    "plt.title(\"Confusion Matrix\")\n",
    "plt.show()\n",
    "\n",
    "report = classification_report(y_test, np.around(pred), target_names=[\"0\", \"1\"])\n",
    "print(report)"
   ]
  },
  {
   "cell_type": "code",
   "execution_count": 23,
   "metadata": {},
   "outputs": [
    {
     "name": "stdout",
     "output_type": "stream",
     "text": [
      "\n",
      "Story line is make me bored a litle, not as i expected, too much singing part.\n",
      "But still worth to watch especially if you like first movie.\n",
      " **Result: -0.022 negative sentiment\n",
      "\n",
      "\n",
      "\n",
      "Frozen II felt unsatisfying. There was lots of build up to a very short climax that felt way too easy and simple. \n",
      "I kept expecting another adventure which never came. The film feels short and unfinished. \n",
      "That said, the animation is absolutely gorgeous and I did find the film quite funny. \n",
      "If you go into this with low expectations I think you'll enjoy yourself.\n",
      " **Result: 0.005 positive sentiment\n",
      "\n",
      "\n",
      "\n",
      "Went to see the movie with high expectations hoping that it would be as good as the first one. \n",
      "Found it to be a sleepy movie... the songs are awful and the storyline was a struggle.\n",
      "I managed to fall asleep halfway of the movie.\n",
      " **Result: -0.973 negative sentiment\n",
      "\n",
      "\n",
      "\n",
      "I'm not sure why some people say it sucked. I went with my nephew and I thought the story was good and kept me intrigued throughout and had so many emotions, great visuals and was as good if not better than the first. \n",
      "I would def. Recommend this movie if you liked the 1st one! The characters from Frozen are awesome!\n",
      " **Result: 0.986 positive sentiment\n",
      "\n",
      "\n",
      "\n",
      "Big, well crafted, exciting, meaningful... Every element in the film works beautifully, sound editing, cinematography, acting, costume, etc. \n",
      "Makes for such a fun an engaging film and it also holds truth and insight into the human condition and doesn't treat you like a child. \n",
      "A grown up, direct and well told story, made me nostalgic even for the old-Hollywood classics when directors where humble and made sure to stay out of the way in service of the story. \n",
      "I'll have this one on bluray for sure.\n",
      " **Result: 0.97 positive sentiment\n",
      "\n",
      "\n"
     ]
    }
   ],
   "source": [
    "origin_texts = [\"\"\"\n",
    "Story line is make me bored a litle, not as i expected, too much singing part.\n",
    "But still worth to watch especially if you like first movie.\n",
    "\"\"\", \n",
    "                \n",
    "\"\"\"\n",
    "Frozen II felt unsatisfying. There was lots of build up to a very short climax that felt way too easy and simple. \n",
    "I kept expecting another adventure which never came. The film feels short and unfinished. \n",
    "That said, the animation is absolutely gorgeous and I did find the film quite funny. \n",
    "If you go into this with low expectations I think you'll enjoy yourself.\n",
    "\"\"\",\n",
    "                \n",
    "\"\"\"\n",
    "Went to see the movie with high expectations hoping that it would be as good as the first one. \n",
    "Found it to be a sleepy movie... the songs are awful and the storyline was a struggle.\n",
    "I managed to fall asleep halfway of the movie.\n",
    "\"\"\",\n",
    "\n",
    "\"\"\"\n",
    "I'm not sure why some people say it sucked. I went with my nephew and I thought the story was good and kept me intrigued throughout and had so many emotions, great visuals and was as good if not better than the first. \n",
    "I would def. Recommend this movie if you liked the 1st one! The characters from Frozen are awesome!\n",
    "\"\"\", \n",
    "                \n",
    "\"\"\"\n",
    "Big, well crafted, exciting, meaningful... Every element in the film works beautifully, sound editing, cinematography, acting, costume, etc. \n",
    "Makes for such a fun an engaging film and it also holds truth and insight into the human condition and doesn't treat you like a child. \n",
    "A grown up, direct and well told story, made me nostalgic even for the old-Hollywood classics when directors where humble and made sure to stay out of the way in service of the story. \n",
    "I'll have this one on bluray for sure.\n",
    "\"\"\"]\n",
    "\n",
    "for origin_text in origin_texts:\n",
    "    text = data_preprocessing(origin_text)\n",
    "\n",
    "    val = vectorizer.transform([text])\n",
    "    val = val.toarray()\n",
    "\n",
    "    pred = model_d2v_01.predict_proba(val)\n",
    "    if np.argmax(pred) == 0:\n",
    "        print(origin_text, \"**Result:\", round(pred[0][np.argmax(pred)] * -1, 3), \"negative sentiment\")\n",
    "    else: \n",
    "        print(origin_text, \"**Result:\", round(pred[0][np.argmax(pred)], 3), \"positive sentiment\")\n",
    "    \n",
    "    print(\"\\n\")"
   ]
  },
  {
   "cell_type": "code",
   "execution_count": null,
   "metadata": {},
   "outputs": [],
   "source": []
  },
  {
   "cell_type": "markdown",
   "metadata": {},
   "source": [
    "# Neural Network model"
   ]
  },
  {
   "cell_type": "code",
   "execution_count": 15,
   "metadata": {},
   "outputs": [
    {
     "name": "stdout",
     "output_type": "stream",
     "text": [
      "Train on 9600 samples, validate on 3001 samples\n",
      "Epoch 1/10\n",
      "9600/9600 [==============================] - 20s 2ms/sample - loss: 0.4396 - accuracy: 0.7966 - val_loss: 0.3151 - val_accuracy: 0.8650\n",
      "Epoch 2/10\n",
      "9600/9600 [==============================] - 15s 2ms/sample - loss: 0.0774 - accuracy: 0.9741 - val_loss: 0.4072 - val_accuracy: 0.8624\n",
      "Epoch 3/10\n",
      "9600/9600 [==============================] - 15s 2ms/sample - loss: 0.0086 - accuracy: 0.9974 - val_loss: 0.6377 - val_accuracy: 0.8644\n",
      "Epoch 4/10\n",
      "9600/9600 [==============================] - 15s 2ms/sample - loss: 9.7713e-04 - accuracy: 0.9997 - val_loss: 0.7661 - val_accuracy: 0.8660\n",
      "Epoch 5/10\n",
      "9600/9600 [==============================] - 15s 2ms/sample - loss: 1.3947e-04 - accuracy: 1.0000 - val_loss: 1.0057 - val_accuracy: 0.8634\n",
      "Epoch 6/10\n",
      "9600/9600 [==============================] - 15s 2ms/sample - loss: 1.7761e-05 - accuracy: 1.0000 - val_loss: 1.1420 - val_accuracy: 0.8657\n",
      "Epoch 7/10\n",
      "9600/9600 [==============================] - 15s 2ms/sample - loss: 6.0949e-06 - accuracy: 1.0000 - val_loss: 1.1707 - val_accuracy: 0.8654\n",
      "Epoch 8/10\n",
      "9600/9600 [==============================] - 15s 2ms/sample - loss: 3.3738e-06 - accuracy: 1.0000 - val_loss: 1.1785 - val_accuracy: 0.8650\n",
      "Epoch 9/10\n",
      "9600/9600 [==============================] - 15s 2ms/sample - loss: 2.3122e-06 - accuracy: 1.0000 - val_loss: 1.1892 - val_accuracy: 0.8660\n",
      "Epoch 10/10\n",
      "9600/9600 [==============================] - 15s 2ms/sample - loss: 1.7309e-06 - accuracy: 1.0000 - val_loss: 1.1999 - val_accuracy: 0.8654\n"
     ]
    }
   ],
   "source": [
    "from tensorflow.keras.models import Sequential\n",
    "from tensorflow.keras.layers import Dense, Dropout, Embedding, LSTM, Input\n",
    "from tensorflow.keras.layers import Flatten\n",
    "from tensorflow.keras.preprocessing import sequence\n",
    "\n",
    "model_d2v_01 = Sequential()\n",
    "model_d2v_01.add(Dense(512, activation='relu', input_dim=X_train.shape[1]))\n",
    "model_d2v_01.add(Flatten())\n",
    "model_d2v_01.add(Dense(256, activation='relu'))\n",
    "model_d2v_01.add(Dense(128, activation='relu'))\n",
    "model_d2v_01.add(Dense(64, activation='relu'))\n",
    "model_d2v_01.add(Dense(32, activation='relu'))\n",
    "model_d2v_01.add(Dense(2, activation='sigmoid'))\n",
    "model_d2v_01.compile(optimizer='adam',\n",
    "              loss='sparse_categorical_crossentropy',\n",
    "              metrics=['accuracy'])\n",
    "\n",
    "History = model_d2v_01.fit(X_train, y_train,\n",
    "                 validation_data=(X_test, y_test),\n",
    "                 epochs=10, batch_size=128)"
   ]
  },
  {
   "cell_type": "code",
   "execution_count": 16,
   "metadata": {},
   "outputs": [
    {
     "data": {
      "image/png": "[encoded data removed]",
      "text/plain": [
       "<Figure size 432x288 with 1 Axes>"
      ]
     },
     "metadata": {
      "needs_background": "light"
     },
     "output_type": "display_data"
    }
   ],
   "source": [
    "plt.plot(History.history['loss'])\n",
    "plt.show()"
   ]
  },
  {
   "cell_type": "code",
   "execution_count": 13,
   "metadata": {},
   "outputs": [],
   "source": [
    "# model_d2v_01.save(\"model_v5.h5\")\n",
    "from tensorflow.keras.models import load_model\n",
    " \n",
    "# # # load model\n",
    "model_d2v_01 = load_model('model_v4.h5')"
   ]
  },
  {
   "cell_type": "code",
   "execution_count": null,
   "metadata": {},
   "outputs": [],
   "source": []
  },
  {
   "cell_type": "markdown",
   "metadata": {},
   "source": [
    "# Testing"
   ]
  },
  {
   "cell_type": "code",
   "execution_count": 14,
   "metadata": {
    "scrolled": true
   },
   "outputs": [
    {
     "name": "stdout",
     "output_type": "stream",
     "text": [
      "Accuracy: 86.74%\n"
     ]
    }
   ],
   "source": [
    "pred = model_d2v_01.predict(X_test)\n",
    "\n",
    "# Model evaluation\n",
    "scores = model_d2v_01.evaluate(X_test, y_test, verbose=0)\n",
    "print(\"Accuracy: %.2f%%\" % (scores[1]*100))"
   ]
  },
  {
   "cell_type": "code",
   "execution_count": 15,
   "metadata": {},
   "outputs": [
    {
     "data": {
      "image/png": "[encoded data removed]",
      "text/plain": [
       "<Figure size 288x288 with 2 Axes>"
      ]
     },
     "metadata": {
      "needs_background": "light"
     },
     "output_type": "display_data"
    },
    {
     "name": "stdout",
     "output_type": "stream",
     "text": [
      "              precision    recall  f1-score   support\n",
      "\n",
      "           0       0.88      0.85      0.87      1501\n",
      "           1       0.86      0.88      0.87      1500\n",
      "\n",
      "   micro avg       0.87      0.87      0.87      3001\n",
      "   macro avg       0.87      0.87      0.87      3001\n",
      "weighted avg       0.87      0.87      0.87      3001\n",
      "\n"
     ]
    }
   ],
   "source": [
    "from sklearn.metrics import confusion_matrix\n",
    "from sklearn.metrics import classification_report\n",
    "import seaborn as sns\n",
    "\n",
    "cm = confusion_matrix(y_test,np.argmax(pred, axis=1))\n",
    "\n",
    "f,ax = plt.subplots(figsize=(4, 4))\n",
    "sns.heatmap(cm, annot=True, linewidths=0.01,cmap=\"Purples\",linecolor=\"gray\", fmt= '.1f',ax=ax)\n",
    "plt.xlabel(\"Predicted Label\")\n",
    "plt.ylabel(\"True Label\")\n",
    "plt.title(\"Confusion Matrix\")\n",
    "plt.show()\n",
    "\n",
    "report = classification_report(y_test, np.argmax(pred, axis=1), target_names=[\"0\", \"1\"])\n",
    "print(report)"
   ]
  },
  {
   "cell_type": "code",
   "execution_count": null,
   "metadata": {},
   "outputs": [],
   "source": []
  },
  {
   "cell_type": "markdown",
   "metadata": {},
   "source": [
    "# Validation"
   ]
  },
  {
   "cell_type": "code",
   "execution_count": 16,
   "metadata": {},
   "outputs": [
    {
     "name": "stdout",
     "output_type": "stream",
     "text": [
      "Accuracy: 88.67%\n",
      "[1.0274543719011662, 0.88671386]\n"
     ]
    }
   ],
   "source": [
    "pred = model_d2v_01.predict(X_val)\n",
    "\n",
    "# Model evaluation\n",
    "scores = model_d2v_01.evaluate(X_val, y_val, verbose=0)\n",
    "print(\"Accuracy: %.2f%%\" % (scores[1]*100))\n",
    "print(scores)"
   ]
  },
  {
   "cell_type": "code",
   "execution_count": 17,
   "metadata": {},
   "outputs": [
    {
     "data": {
      "text/plain": [
       "array([[9.6606290e-01, 0.0000000e+00],\n",
       "       [9.4793856e-01, 0.0000000e+00],\n",
       "       [1.4901161e-07, 5.9947318e-01],\n",
       "       ...,\n",
       "       [4.7024786e-02, 3.5762787e-07],\n",
       "       [0.0000000e+00, 9.8582220e-01],\n",
       "       [0.0000000e+00, 9.9290061e-01]], dtype=float32)"
      ]
     },
     "execution_count": 17,
     "metadata": {},
     "output_type": "execute_result"
    }
   ],
   "source": [
    "pred"
   ]
  },
  {
   "cell_type": "code",
   "execution_count": 18,
   "metadata": {},
   "outputs": [
    {
     "data": {
      "image/png": "[encoded data removed]",
      "text/plain": [
       "<Figure size 288x288 with 2 Axes>"
      ]
     },
     "metadata": {
      "needs_background": "light"
     },
     "output_type": "display_data"
    },
    {
     "name": "stdout",
     "output_type": "stream",
     "text": [
      "              precision    recall  f1-score   support\n",
      "\n",
      "           0       0.90      0.87      0.89      1200\n",
      "           1       0.88      0.90      0.89      1201\n",
      "\n",
      "   micro avg       0.89      0.89      0.89      2401\n",
      "   macro avg       0.89      0.89      0.89      2401\n",
      "weighted avg       0.89      0.89      0.89      2401\n",
      "\n"
     ]
    }
   ],
   "source": [
    "from sklearn.metrics import confusion_matrix\n",
    "from sklearn.metrics import classification_report\n",
    "import seaborn as sns\n",
    "\n",
    "cm = confusion_matrix(y_val,np.argmax(pred, axis=1))\n",
    "\n",
    "f,ax = plt.subplots(figsize=(4, 4))\n",
    "sns.heatmap(cm, annot=True, linewidths=0.01,cmap=\"Purples\",linecolor=\"gray\", fmt= '.1f',ax=ax)\n",
    "plt.xlabel(\"Predicted Label\")\n",
    "plt.ylabel(\"True Label\")\n",
    "plt.title(\"Confusion Matrix\")\n",
    "plt.show()\n",
    "\n",
    "report = classification_report(y_val, np.argmax(pred, axis=1), target_names=[\"0\", \"1\"])\n",
    "print(report)"
   ]
  },
  {
   "cell_type": "code",
   "execution_count": null,
   "metadata": {},
   "outputs": [],
   "source": []
  },
  {
   "cell_type": "markdown",
   "metadata": {},
   "source": [
    "# Inference"
   ]
  },
  {
   "cell_type": "code",
   "execution_count": 19,
   "metadata": {},
   "outputs": [
    {
     "name": "stdout",
     "output_type": "stream",
     "text": [
      "\n",
      "Story line is make me bored a litle, not as i expected, too much singing part.\n",
      "But still worth to watch especially if you like first movie.\n",
      " **Result: -0.022 negative sentiment\n",
      "\n",
      "\n",
      "\n",
      "Frozen II felt unsatisfying. There was lots of build up to a very short climax that felt way too easy and simple. \n",
      "I kept expecting another adventure which never came. The film feels short and unfinished. \n",
      "That said, the animation is absolutely gorgeous and I did find the film quite funny. \n",
      "If you go into this with low expectations I think you'll enjoy yourself.\n",
      " **Result: 0.005 positive sentiment\n",
      "\n",
      "\n",
      "\n",
      "Went to see the movie with high expectations hoping that it would be as good as the first one. \n",
      "Found it to be a sleepy movie... the songs are awful and the storyline was a struggle.\n",
      "I managed to fall asleep halfway of the movie.\n",
      " **Result: -0.973 negative sentiment\n",
      "\n",
      "\n",
      "\n",
      "I'm not sure why some people say it sucked. I went with my nephew and I thought the story was good and kept me intrigued throughout and had so many emotions, great visuals and was as good if not better than the first. \n",
      "I would def. Recommend this movie if you liked the 1st one! The characters from Frozen are awesome!\n",
      " **Result: 0.986 positive sentiment\n",
      "\n",
      "\n",
      "\n",
      "Big, well crafted, exciting, meaningful... Every element in the film works beautifully, sound editing, cinematography, acting, costume, etc. \n",
      "Makes for such a fun an engaging film and it also holds truth and insight into the human condition and doesn't treat you like a child. \n",
      "A grown up, direct and well told story, made me nostalgic even for the old-Hollywood classics when directors where humble and made sure to stay out of the way in service of the story. \n",
      "I'll have this one on bluray for sure.\n",
      " **Result: 0.97 positive sentiment\n",
      "\n",
      "\n"
     ]
    }
   ],
   "source": [
    "origin_texts = [\"\"\"\n",
    "Story line is make me bored a litle, not as i expected, too much singing part.\n",
    "But still worth to watch especially if you like first movie.\n",
    "\"\"\", \n",
    "                \n",
    "\"\"\"\n",
    "Frozen II felt unsatisfying. There was lots of build up to a very short climax that felt way too easy and simple. \n",
    "I kept expecting another adventure which never came. The film feels short and unfinished. \n",
    "That said, the animation is absolutely gorgeous and I did find the film quite funny. \n",
    "If you go into this with low expectations I think you'll enjoy yourself.\n",
    "\"\"\",\n",
    "                \n",
    "\"\"\"\n",
    "Went to see the movie with high expectations hoping that it would be as good as the first one. \n",
    "Found it to be a sleepy movie... the songs are awful and the storyline was a struggle.\n",
    "I managed to fall asleep halfway of the movie.\n",
    "\"\"\",\n",
    "\n",
    "\"\"\"\n",
    "I'm not sure why some people say it sucked. I went with my nephew and I thought the story was good and kept me intrigued throughout and had so many emotions, great visuals and was as good if not better than the first. \n",
    "I would def. Recommend this movie if you liked the 1st one! The characters from Frozen are awesome!\n",
    "\"\"\", \n",
    "                \n",
    "\"\"\"\n",
    "Big, well crafted, exciting, meaningful... Every element in the film works beautifully, sound editing, cinematography, acting, costume, etc. \n",
    "Makes for such a fun an engaging film and it also holds truth and insight into the human condition and doesn't treat you like a child. \n",
    "A grown up, direct and well told story, made me nostalgic even for the old-Hollywood classics when directors where humble and made sure to stay out of the way in service of the story. \n",
    "I'll have this one on bluray for sure.\n",
    "\"\"\"]\n",
    "\n",
    "for origin_text in origin_texts:\n",
    "    text = data_preprocessing(origin_text)\n",
    "\n",
    "    val = vectorizer.transform([text])\n",
    "    val = val.toarray()\n",
    "\n",
    "    pred = model_d2v_01.predict_proba(val)\n",
    "    if np.argmax(pred) == 0:\n",
    "        print(origin_text, \"**Result:\", round(pred[0][np.argmax(pred)] * -1, 3), \"negative sentiment\")\n",
    "    else: \n",
    "        print(origin_text, \"**Result:\", round(pred[0][np.argmax(pred)], 3), \"positive sentiment\")\n",
    "    \n",
    "    print(\"\\n\")"
   ]
  },
  {
   "cell_type": "code",
   "execution_count": null,
   "metadata": {},
   "outputs": [],
   "source": []
  },
  {
   "cell_type": "code",
   "execution_count": null,
   "metadata": {},
   "outputs": [],
   "source": []
  },
  {
   "cell_type": "code",
   "execution_count": null,
   "metadata": {},
   "outputs": [],
   "source": []
  }
 ],
 "metadata": {
  "kernelspec": {
   "display_name": "Python 3",
   "language": "python",
   "name": "python3"
  },
  "language_info": {
   "codemirror_mode": {
    "name": "ipython",
    "version": 3
   },
   "file_extension": ".py",
   "mimetype": "text/x-python",
   "name": "python",
   "nbconvert_exporter": "python",
   "pygments_lexer": "ipython3",
   "version": "3.7.1"
  }
 },
 "nbformat": 4,
 "nbformat_minor": 2
}
